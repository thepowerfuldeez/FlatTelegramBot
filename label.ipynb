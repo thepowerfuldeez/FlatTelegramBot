{
 "cells": [
  {
   "cell_type": "code",
   "execution_count": 5,
   "metadata": {},
   "outputs": [
    {
     "name": "stdout",
     "output_type": "stream",
     "text": [
      "Requirement already satisfied: timm in /usr/local/lib/python3.7/site-packages (0.1.30)\r\n",
      "Requirement already satisfied: torchvision in /usr/local/lib/python3.7/site-packages (from timm) (0.7.0.dev20200622)\r\n",
      "Requirement already satisfied: torch>=1.0 in /usr/local/lib/python3.7/site-packages (from timm) (1.6.0.dev20200623)\r\n",
      "Requirement already satisfied: numpy in /usr/local/lib/python3.7/site-packages (from torchvision->timm) (1.18.1)\r\n",
      "Requirement already satisfied: pillow>=4.1.1 in /usr/local/lib/python3.7/site-packages (from torchvision->timm) (7.1.2)\r\n",
      "Requirement already satisfied: future in /usr/local/lib/python3.7/site-packages (from torch>=1.0->timm) (0.18.2)\r\n"
     ]
    }
   ],
   "source": [
    "!python3 -m pip install timm"
   ]
  }
 ],
 "metadata": {
  "kernelspec": {
   "display_name": "Python 3",
   "language": "python",
   "name": "python3"
  },
  "language_info": {
   "codemirror_mode": {
    "name": "ipython",
    "version": 3
   },
   "file_extension": ".py",
   "mimetype": "text/x-python",
   "name": "python",
   "nbconvert_exporter": "python",
   "pygments_lexer": "ipython3",
   "version": "3.7.7"
  }
 },
 "nbformat": 4,
 "nbformat_minor": 4
}
