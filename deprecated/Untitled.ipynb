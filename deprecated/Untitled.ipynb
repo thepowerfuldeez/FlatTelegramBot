{
 "cells": [
  {
   "cell_type": "code",
   "execution_count": 3,
   "metadata": {
    "ExecuteTime": {
     "end_time": "2018-12-11T18:57:43.948570Z",
     "start_time": "2018-12-11T18:57:43.916894Z"
    }
   },
   "outputs": [],
   "source": [
    "VK_TOKEN = \"e4ffac0c1dd8a7d604cd7d5f8f0edbfcee4fae1ee65a94ea2e44d02ac21de370506cbdfa3b49a1255e6b0\"\n",
    "group_id = -57466174"
   ]
  },
  {
   "cell_type": "code",
   "execution_count": 4,
   "metadata": {
    "ExecuteTime": {
     "end_time": "2018-12-11T18:57:46.706308Z",
     "start_time": "2018-12-11T18:57:46.572482Z"
    }
   },
   "outputs": [],
   "source": [
    "import vk_api"
   ]
  },
  {
   "cell_type": "code",
   "execution_count": 22,
   "metadata": {
    "ExecuteTime": {
     "end_time": "2018-12-11T19:03:31.274593Z",
     "start_time": "2018-12-11T19:03:31.271332Z"
    }
   },
   "outputs": [],
   "source": [
    "vk_session = vk_api.VkApi(token=VK_TOKEN)\n",
    "vk = vk_session.get_api()"
   ]
  },
  {
   "cell_type": "code",
   "execution_count": null,
   "metadata": {},
   "outputs": [],
   "source": []
  },
  {
   "cell_type": "code",
   "execution_count": 23,
   "metadata": {
    "ExecuteTime": {
     "end_time": "2018-12-11T19:03:35.056493Z",
     "start_time": "2018-12-11T19:03:35.052490Z"
    }
   },
   "outputs": [],
   "source": [
    "tools = vk_api.VkTools(vk_session)"
   ]
  },
  {
   "cell_type": "code",
   "execution_count": 26,
   "metadata": {
    "ExecuteTime": {
     "end_time": "2018-12-11T19:04:24.154349Z",
     "start_time": "2018-12-11T19:04:07.722001Z"
    }
   },
   "outputs": [],
   "source": [
    "posts = tools.get_all(\"wall.get\", 50, {\"owner_id\": group_id})['items']"
   ]
  },
  {
   "cell_type": "code",
   "execution_count": 39,
   "metadata": {
    "ExecuteTime": {
     "end_time": "2018-12-11T19:12:01.150174Z",
     "start_time": "2018-12-11T19:12:01.139648Z"
    },
    "scrolled": false
   },
   "outputs": [
    {
     "name": "stdout",
     "output_type": "stream",
     "text": [
      "https://vk.com/yuytnoe_gnezdishko?w=wall-57466174_563736\n",
      "https://vk.com/yuytnoe_gnezdishko?w=wall-57466174_490763\n",
      "https://vk.com/yuytnoe_gnezdishko?w=wall-57466174_569113\n",
      "https://vk.com/yuytnoe_gnezdishko?w=wall-57466174_533710\n",
      "https://vk.com/yuytnoe_gnezdishko?w=wall-57466174_497631\n",
      "https://vk.com/yuytnoe_gnezdishko?w=wall-57466174_569030\n",
      "https://vk.com/yuytnoe_gnezdishko?w=wall-57466174_566191\n",
      "https://vk.com/yuytnoe_gnezdishko?w=wall-57466174_566833\n",
      "https://vk.com/yuytnoe_gnezdishko?w=wall-57466174_565797\n",
      "https://vk.com/yuytnoe_gnezdishko?w=wall-57466174_567478\n",
      "https://vk.com/yuytnoe_gnezdishko?w=wall-57466174_555219\n",
      "https://vk.com/yuytnoe_gnezdishko?w=wall-57466174_492777\n",
      "https://vk.com/yuytnoe_gnezdishko?w=wall-57466174_568408\n",
      "https://vk.com/yuytnoe_gnezdishko?w=wall-57466174_566855\n",
      "https://vk.com/yuytnoe_gnezdishko?w=wall-57466174_564978\n",
      "https://vk.com/yuytnoe_gnezdishko?w=wall-57466174_568512\n",
      "https://vk.com/yuytnoe_gnezdishko?w=wall-57466174_564918\n",
      "https://vk.com/yuytnoe_gnezdishko?w=wall-57466174_566483\n",
      "https://vk.com/yuytnoe_gnezdishko?w=wall-57466174_565318\n",
      "https://vk.com/yuytnoe_gnezdishko?w=wall-57466174_565475\n",
      "https://vk.com/yuytnoe_gnezdishko?w=wall-57466174_484010\n",
      "https://vk.com/yuytnoe_gnezdishko?w=wall-57466174_535509\n",
      "https://vk.com/yuytnoe_gnezdishko?w=wall-57466174_498546\n",
      "https://vk.com/yuytnoe_gnezdishko?w=wall-57466174_525959\n",
      "https://vk.com/yuytnoe_gnezdishko?w=wall-57466174_567909\n",
      "https://vk.com/yuytnoe_gnezdishko?w=wall-57466174_567803\n",
      "https://vk.com/yuytnoe_gnezdishko?w=wall-57466174_567384\n",
      "https://vk.com/yuytnoe_gnezdishko?w=wall-57466174_566090\n",
      "https://vk.com/yuytnoe_gnezdishko?w=wall-57466174_567307\n",
      "https://vk.com/yuytnoe_gnezdishko?w=wall-57466174_568786\n",
      "https://vk.com/yuytnoe_gnezdishko?w=wall-57466174_568531\n",
      "https://vk.com/yuytnoe_gnezdishko?w=wall-57466174_565817\n",
      "https://vk.com/yuytnoe_gnezdishko?w=wall-57466174_562433\n",
      "https://vk.com/yuytnoe_gnezdishko?w=wall-57466174_566707\n",
      "https://vk.com/yuytnoe_gnezdishko?w=wall-57466174_506347\n",
      "https://vk.com/yuytnoe_gnezdishko?w=wall-57466174_567542\n",
      "https://vk.com/yuytnoe_gnezdishko?w=wall-57466174_566904\n",
      "https://vk.com/yuytnoe_gnezdishko?w=wall-57466174_531731\n",
      "https://vk.com/yuytnoe_gnezdishko?w=wall-57466174_565099\n",
      "https://vk.com/yuytnoe_gnezdishko?w=wall-57466174_569049\n",
      "https://vk.com/yuytnoe_gnezdishko?w=wall-57466174_564906\n",
      "https://vk.com/yuytnoe_gnezdishko?w=wall-57466174_566010\n",
      "https://vk.com/yuytnoe_gnezdishko?w=wall-57466174_568281\n",
      "https://vk.com/yuytnoe_gnezdishko?w=wall-57466174_513799\n",
      "https://vk.com/yuytnoe_gnezdishko?w=wall-57466174_568118\n",
      "https://vk.com/yuytnoe_gnezdishko?w=wall-57466174_565735\n",
      "https://vk.com/yuytnoe_gnezdishko?w=wall-57466174_542808\n",
      "https://vk.com/yuytnoe_gnezdishko?w=wall-57466174_567722\n",
      "https://vk.com/yuytnoe_gnezdishko?w=wall-57466174_562663\n",
      "https://vk.com/yuytnoe_gnezdishko?w=wall-57466174_567697\n"
     ]
    }
   ],
   "source": [
    "t = [f\"https://vk.com/yuytnoe_gnezdishko?w=wall-57466174_{x['id']}\" for x in sorted(\n",
    "    filter(lambda x: 'attachments' in x, posts), key=lambda x: x['likes']['count'], reverse=True)[:50]]\n",
    "for tt in t:\n",
    "    print(tt)"
   ]
  },
  {
   "cell_type": "code",
   "execution_count": null,
   "metadata": {},
   "outputs": [],
   "source": []
  }
 ],
 "metadata": {
  "kernelspec": {
   "display_name": "Python 3",
   "language": "python",
   "name": "python3"
  },
  "language_info": {
   "codemirror_mode": {
    "name": "ipython",
    "version": 3
   },
   "file_extension": ".py",
   "mimetype": "text/x-python",
   "name": "python",
   "nbconvert_exporter": "python",
   "pygments_lexer": "ipython3",
   "version": "3.6.3"
  },
  "varInspector": {
   "cols": {
    "lenName": 16,
    "lenType": 16,
    "lenVar": 40
   },
   "kernels_config": {
    "python": {
     "delete_cmd_postfix": "",
     "delete_cmd_prefix": "del ",
     "library": "var_list.py",
     "varRefreshCmd": "print(var_dic_list())"
    },
    "r": {
     "delete_cmd_postfix": ") ",
     "delete_cmd_prefix": "rm(",
     "library": "var_list.r",
     "varRefreshCmd": "cat(var_dic_list()) "
    }
   },
   "types_to_exclude": [
    "module",
    "function",
    "builtin_function_or_method",
    "instance",
    "_Feature"
   ],
   "window_display": false
  }
 },
 "nbformat": 4,
 "nbformat_minor": 2
}
